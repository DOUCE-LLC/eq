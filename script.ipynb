{
 "cells": [
  {
   "cell_type": "code",
   "execution_count": 2,
   "metadata": {},
   "outputs": [],
   "source": [
    "import pandas as pd\n",
    "from datetime import datetime\n",
    "from ydata_profiling import ProfileReport"
   ]
  },
  {
   "cell_type": "markdown",
   "metadata": {},
   "source": [
    "Parte 1:\n",
    "--------\n",
    "    - Crear una columna nueva (ejemplo nombre tipo_ocupacion) e indicar la cantidad de personas con y sin ocupación.\n",
    "    \n",
    "    En base al dataset provisto cree una columna 'empleo_sl' que se base en la situacion laboral provista.\n",
    "    Sin embargo, la mitad de los registros son: 'Sin_situacion_declarada'.\n",
    "    Por lo que en base a los ingresos rellene esa categoría en la columna 'empleo_i'"
   ]
  },
  {
   "cell_type": "markdown",
   "metadata": {},
   "source": [
    "### Cargamos el dataset"
   ]
  },
  {
   "cell_type": "code",
   "execution_count": 3,
   "metadata": {},
   "outputs": [
    {
     "name": "stdout",
     "output_type": "stream",
     "text": [
      "          pers_id sexo  edad      ingreso            situacion_lab\n",
      "0     71906556521    F    47  35926.28125  Sin_situacion_declarada\n",
      "1     73861260912    F    41  16231.12207  Sin_situacion_declarada\n",
      "2     24939194469    F    40  25068.96484     Relacion_dependencia\n",
      "3     21033369421    F    52  30239.54883                 Jubilado\n",
      "4     45334163605    F    46  12654.58203     Relacion_dependencia\n",
      "...           ...  ...   ...          ...                      ...\n",
      "4995  77317158601    M    55  22806.19336     Relacion_dependencia\n",
      "4996   7865860477    M    42  34291.91016     Relacion_dependencia\n",
      "4997   2875330898    M    55  19692.85938  Sin_situacion_declarada\n",
      "4998  57646643429    M    33  37955.50781     Relacion_dependencia\n",
      "4999  92370836565    M    41  92338.20313     Relacion_dependencia\n",
      "\n",
      "[4853 rows x 5 columns] \n",
      "\n",
      "pers_id            int64\n",
      "sexo              object\n",
      "edad               int64\n",
      "ingreso          float64\n",
      "situacion_lab     object\n",
      "dtype: object \n",
      "\n",
      "pers_id          0\n",
      "sexo             0\n",
      "edad             0\n",
      "ingreso          0\n",
      "situacion_lab    0\n",
      "dtype: int64 \n",
      "\n"
     ]
    }
   ],
   "source": [
    "df1 = pd.read_csv('./raw data/Tabla1_ejercicio_N3.csv', sep=';')                            # cargamos el dataset\n",
    "df1 = df1.drop_duplicates()                                                                 # eliminar duplicados\n",
    "\n",
    "print(df1, '\\n')                                                                            # visualizamos el dataset\n",
    "print(df1.dtypes, '\\n')                                                                     # verificar los tipos de datos\n",
    "print(df1.isnull().sum(), '\\n')                                                             # cantidad de null * col"
   ]
  },
  {
   "cell_type": "markdown",
   "metadata": {},
   "source": [
    "### Creamos un EDA con pandas-profiling"
   ]
  },
  {
   "cell_type": "code",
   "execution_count": 4,
   "metadata": {},
   "outputs": [
    {
     "data": {
      "application/vnd.jupyter.widget-view+json": {
       "model_id": "f368f2ed68914572819f23ebf8e0f097",
       "version_major": 2,
       "version_minor": 0
      },
      "text/plain": [
       "Summarize dataset:   0%|          | 0/5 [00:00<?, ?it/s]"
      ]
     },
     "metadata": {},
     "output_type": "display_data"
    },
    {
     "data": {
      "application/vnd.jupyter.widget-view+json": {
       "model_id": "869c77dbac26437a8ae8ef72d05a1de7",
       "version_major": 2,
       "version_minor": 0
      },
      "text/plain": [
       "Generate report structure:   0%|          | 0/1 [00:00<?, ?it/s]"
      ]
     },
     "metadata": {},
     "output_type": "display_data"
    },
    {
     "data": {
      "application/vnd.jupyter.widget-view+json": {
       "model_id": "7003882de0f34c139e906c806e41f19d",
       "version_major": 2,
       "version_minor": 0
      },
      "text/plain": [
       "Render HTML:   0%|          | 0/1 [00:00<?, ?it/s]"
      ]
     },
     "metadata": {},
     "output_type": "display_data"
    },
    {
     "data": {
      "application/vnd.jupyter.widget-view+json": {
       "model_id": "3be9bb1033f7453e86af6c8843d40ccf",
       "version_major": 2,
       "version_minor": 0
      },
      "text/plain": [
       "Export report to file:   0%|          | 0/1 [00:00<?, ?it/s]"
      ]
     },
     "metadata": {},
     "output_type": "display_data"
    }
   ],
   "source": [
    "profile = ProfileReport(df1)                                                                # generamos un EDA con pandas_profiling\n",
    "profile.to_file(\"EDA.html\")                                                                 # exportamos el reporte en HTML"
   ]
  },
  {
   "cell_type": "markdown",
   "metadata": {},
   "source": [
    "Conclusiones:\n",
    "-------------\n",
    "    El dataset no contenía valores nulos ni valores duplicados...\n",
    "\n",
    "    - La empresa tiene el doble de clientes femeninas que masculinos.\n",
    "    - La mayoria de sus clientes tienen mas de 40 años, aproximadamente del doble de sus clientes son mayores de 40 años en comparacion con los menores de 40 años. Aunque disminuyen coinsiderablemente luego de los 60 años.\n",
    "    - El minimo ingreso es 5 mil y el maximo 850 mil. Lo que comprueba que hay clientes que tienen ingresos mas no trabajo. y la media es de 48 mil.\n",
    "    - Hay una correlacion considerable entre sexo y edad. puede deverse a que los clientes de cierta edad sean hombres mientras que los de otra edad sean mujeres."
   ]
  },
  {
   "cell_type": "markdown",
   "metadata": {},
   "source": [
    "### Empleo según la columna situacion_lab"
   ]
  },
  {
   "cell_type": "code",
   "execution_count": 6,
   "metadata": {},
   "outputs": [],
   "source": [
    "df1['empleo_sl'] = df1['situacion_lab']                                                     # duplicamos 'situacion_lab' en 'empleo_sl' que contendra 0 y 1 \n",
    "\n",
    "reemplazos = {                                                                              # creamos la variable reemplazos con las distintas variables a reemplazar por 0(desempleo) o 1(empleo)\n",
    "    'Desempleado_o_plansocial': 0,                                                          # Desempleado_o_plansocial, como dice la palabra es desempleo\n",
    "    'Jubilado': 0,                                                                          # Jubilado, no trabaja, por ende desempleo.\n",
    "    'Autonomo_Monotributista': 1,                                                           # Autonomo o Monotributista, trabajan incluso siendo emprendedores, es trabajo\n",
    "    'Relacion_dependencia': 1,                                                              # Relacion_dependencia, empleo por definicion\n",
    "    'Sin_situacion_declarada': None                                                         # Sin_situacion_declarada, lo seteamos como null para rellenar en base a los ingresos\n",
    "}\n",
    "\n",
    "df1['empleo_sl'] = df1['empleo_sl'].replace(reemplazos)                                     # reemplazamos las categorias por empleo o desempleo\n",
    "df1['empleo_sl'] = pd.to_numeric(df1['empleo_sl'], errors='coerce').astype(pd.Int64Dtype()) # Convertir la columna a tipo entero ignorando nulos"
   ]
  },
  {
   "cell_type": "markdown",
   "metadata": {},
   "source": [
    "### Empleo según la columna ingresos"
   ]
  },
  {
   "cell_type": "code",
   "execution_count": 7,
   "metadata": {},
   "outputs": [
    {
     "name": "stdout",
     "output_type": "stream",
     "text": [
      "El ingreso medio es de:  33383 \n",
      "\n"
     ]
    }
   ],
   "source": [
    "median = df1['ingreso'].median()                                                            # obtenemos la mediana de la columna 'ingreso'\n",
    "print('El ingreso medio es de: ', int(median), '\\n')                                        # imprimimos el ingreso medio                   \n",
    "\n",
    "def Empleo_i(i):                                                                            # creamos una función para transformar los valores en 'empleo_i'\n",
    "    if i < median / 2:\n",
    "        return 0\n",
    "    else:\n",
    "        return 1\n",
    "\n",
    "df1['empleo_i'] = df1.apply(lambda row: Empleo_i(row['ingreso']) if pd.isnull(row['empleo_sl']) else row['empleo_sl'], axis=1)  # aplicamos la función Empleo_i a la columna 'empleo_i' solo si los valores en 'empleo_sl' son nulos\n"
   ]
  },
  {
   "cell_type": "markdown",
   "metadata": {},
   "source": [
    "### Cantidad de clientes con empleo y desempleados"
   ]
  },
  {
   "cell_type": "code",
   "execution_count": 8,
   "metadata": {},
   "outputs": [
    {
     "name": "stdout",
     "output_type": "stream",
     "text": [
      "Cantidad de clientes con empleo: 4038\n",
      "Cantidad de clientes desempleados: 815 \n",
      "\n"
     ]
    }
   ],
   "source": [
    "cantidad_empleo = (df1['empleo_i'] == 1).sum()                                              # contamos los empleados en empleo_i\n",
    "cantidad_desempleo = (df1['empleo_i'] == 0).sum()                                           # contamos los desempleados en empleo_i\n",
    "print(\"Cantidad de clientes con empleo:\", cantidad_empleo)                                  # imprimimos la cantidad de empleados\n",
    "print(\"Cantidad de clientes desempleados:\", cantidad_desempleo, '\\n')                       # imprimimos la cantidad de desempleados"
   ]
  },
  {
   "cell_type": "markdown",
   "metadata": {},
   "source": [
    "### Creamos la columna rango_etario"
   ]
  },
  {
   "cell_type": "code",
   "execution_count": 9,
   "metadata": {},
   "outputs": [],
   "source": [
    "def calcular_rango_etario(edad):                                                            # creamos una función para calcular el rango etario por décadas\n",
    "    return f\"{(edad // 10) * 10}-{((edad // 10) * 10) + 9}\"                                 # redondeamos la edad a la década inferior\n",
    "df1['rango_etario'] = df1['edad'].apply(calcular_rango_etario)                              # aplicamos la función"
   ]
  },
  {
   "cell_type": "markdown",
   "metadata": {},
   "source": [
    "### Exportamos el dataset limpio"
   ]
  },
  {
   "cell_type": "code",
   "execution_count": 10,
   "metadata": {},
   "outputs": [
    {
     "name": "stdout",
     "output_type": "stream",
     "text": [
      "            sexo  edad      ingreso            situacion_lab  empleo_sl  \\\n",
      "pers_id                                                                   \n",
      "71906556521    F    47  35926.28125  Sin_situacion_declarada       <NA>   \n",
      "73861260912    F    41  16231.12207  Sin_situacion_declarada       <NA>   \n",
      "24939194469    F    40  25068.96484     Relacion_dependencia          1   \n",
      "21033369421    F    52  30239.54883                 Jubilado          0   \n",
      "45334163605    F    46  12654.58203     Relacion_dependencia          1   \n",
      "...          ...   ...          ...                      ...        ...   \n",
      "77317158601    M    55  22806.19336     Relacion_dependencia          1   \n",
      "7865860477     M    42  34291.91016     Relacion_dependencia          1   \n",
      "2875330898     M    55  19692.85938  Sin_situacion_declarada       <NA>   \n",
      "57646643429    M    33  37955.50781     Relacion_dependencia          1   \n",
      "92370836565    M    41  92338.20313     Relacion_dependencia          1   \n",
      "\n",
      "             empleo_i rango_etario  \n",
      "pers_id                             \n",
      "71906556521         1        40-49  \n",
      "73861260912         0        40-49  \n",
      "24939194469         1        40-49  \n",
      "21033369421         0        50-59  \n",
      "45334163605         1        40-49  \n",
      "...               ...          ...  \n",
      "77317158601         1        50-59  \n",
      "7865860477          1        40-49  \n",
      "2875330898          1        50-59  \n",
      "57646643429         1        30-39  \n",
      "92370836565         1        40-49  \n",
      "\n",
      "[4853 rows x 7 columns] \n",
      "\n"
     ]
    }
   ],
   "source": [
    "df1.set_index('pers_id', inplace=True)                                                      # establecemos la columna 'Id' como índice\n",
    "df1.to_csv('./data/Tabla1.csv')                                                             # exportamos el dataset en csv a /data\n",
    "print(df1, '\\n')                                                                            # imprimimos el dataset"
   ]
  },
  {
   "cell_type": "markdown",
   "metadata": {},
   "source": [
    "Parte 2:\n",
    "--------\n",
    "    Teniendo en cuenta el periodo más reciente disponible para cada persona, crear una función que reciba como inputs:\n",
    "        - Parámetro 1: datos input.\n",
    "        - Parámetro 2: estadístico que se va a calcular.\n",
    "        - Parámetro 3: variable a la que se va a aplicar el estadístico.\n",
    "        - Parámetro 4: variable con la cual se va a agrupar.\n",
    "    \n",
    "    Y calcular:\n",
    "        - Score promedio y mediana según categoría ocupacional.\n",
    "        - Ingreso y Score máximo y promedio según sexo."
   ]
  },
  {
   "cell_type": "markdown",
   "metadata": {},
   "source": [
    "### Cargar el 2do dataset"
   ]
  },
  {
   "cell_type": "code",
   "execution_count": 11,
   "metadata": {},
   "outputs": [
    {
     "name": "stdout",
     "output_type": "stream",
     "text": [
      "           pers_id  periodo  score\n",
      "0         27817725   201906    814\n",
      "1         37570691   201906    597\n",
      "2         40181240   201906    251\n",
      "3         52105045   201906    617\n",
      "4         63502595   201906    392\n",
      "...            ...      ...    ...\n",
      "14991  99744055227   201912    943\n",
      "14992  99788780024   201912    513\n",
      "14993  99897294254   201912    904\n",
      "14994  99938763350   201912      1\n",
      "14996  99958693785   201912    642\n",
      "\n",
      "[14721 rows x 3 columns] \n",
      "\n",
      "pers_id    int64\n",
      "periodo    int64\n",
      "score      int64\n",
      "dtype: object \n",
      "\n",
      "pers_id    0\n",
      "periodo    0\n",
      "score      0\n",
      "dtype: int64 \n",
      "\n"
     ]
    }
   ],
   "source": [
    "df2 = pd.read_csv('./raw data/Tabla2_ejercicio_N3.csv', sep=';')                            # cargamos el dataset\n",
    "df2 = df2.drop_duplicates()                                                                 # eliminamos duplicados\n",
    "\n",
    "print(df2, '\\n')                                                                            # visualizamos el dataset\n",
    "print(df2.dtypes, '\\n')                                                                     # verificar los tipos de datos\n",
    "print(df2.isnull().sum(), '\\n')                                                             # cantidad de null * col"
   ]
  },
  {
   "cell_type": "markdown",
   "metadata": {},
   "source": [
    "### Limpiar el 2do dataset"
   ]
  },
  {
   "cell_type": "code",
   "execution_count": 12,
   "metadata": {},
   "outputs": [],
   "source": [
    "df2['periodo'] = df2['periodo'].astype(str)                                                 # convertimos 'periodo' en str\n",
    "df2['periodo'] = df2['periodo'].apply(lambda x: datetime.strptime(x, '%Y%m'))               # convertimos 'periodo' a datetime\n",
    "\n",
    "df2 = df2.sort_values(by=['pers_id', 'periodo'], ascending=[True, False])                   # ordenamos el df por 'pers_id' y 'periodo' en orden descendente\n",
    "df2 = df2.groupby('pers_id').first().reset_index()                                          # mantenemos solo la primera fila para cada 'pers_id'"
   ]
  },
  {
   "cell_type": "markdown",
   "metadata": {},
   "source": [
    "### Exportamos el 2do dataset"
   ]
  },
  {
   "cell_type": "code",
   "execution_count": 13,
   "metadata": {},
   "outputs": [
    {
     "name": "stdout",
     "output_type": "stream",
     "text": [
      "               periodo  score\n",
      "pers_id                      \n",
      "27817725    2019-12-01    814\n",
      "37570691    2019-12-01    597\n",
      "40181240    2019-12-01    251\n",
      "52105045    2019-12-01    617\n",
      "63502595    2019-12-01    392\n",
      "...                ...    ...\n",
      "99744055227 2019-12-01    943\n",
      "99788780024 2019-12-01    513\n",
      "99897294254 2019-12-01    904\n",
      "99938763350 2019-12-01      1\n",
      "99958693785 2019-12-01    642\n",
      "\n",
      "[4853 rows x 2 columns] \n",
      "\n"
     ]
    }
   ],
   "source": [
    "df2.set_index('pers_id', inplace=True)                                                      # establecemos la columna 'Id' como índice\n",
    "df2.to_csv('./data/Tabla2.csv')                                                             # exportamos el dataset en csv a /data\n",
    "print(df2, '\\n')                                                                            # imprimimos el dataset"
   ]
  },
  {
   "cell_type": "markdown",
   "metadata": {},
   "source": [
    "### Unimos los 2 datasets"
   ]
  },
  {
   "cell_type": "code",
   "execution_count": 14,
   "metadata": {},
   "outputs": [
    {
     "name": "stdout",
     "output_type": "stream",
     "text": [
      "            sexo  edad      ingreso            situacion_lab  empleo  \\\n",
      "pers_id                                                                \n",
      "27817725       F    40  10622.45898  Sin_situacion_declarada       0   \n",
      "37570691       M    24  43974.76563     Relacion_dependencia       1   \n",
      "40181240       F    51  27217.44727  Autonomo_Monotributista       1   \n",
      "52105045       F    56  55331.26563  Autonomo_Monotributista       1   \n",
      "63502595       F    50  33757.90625     Relacion_dependencia       1   \n",
      "...          ...   ...          ...                      ...     ...   \n",
      "99744055227    F    56  53152.60938                 Jubilado       0   \n",
      "99788780024    F    56  61848.82031  Autonomo_Monotributista       1   \n",
      "99897294254    F    44  47892.31250     Relacion_dependencia       1   \n",
      "99938763350    F    52  12823.33105  Sin_situacion_declarada       0   \n",
      "99958693785    F    29  25437.70898  Autonomo_Monotributista       1   \n",
      "\n",
      "            rango_etario    periodo  score  \n",
      "pers_id                                     \n",
      "27817725           40-49 2019-12-01    814  \n",
      "37570691           20-29 2019-12-01    597  \n",
      "40181240           50-59 2019-12-01    251  \n",
      "52105045           50-59 2019-12-01    617  \n",
      "63502595           50-59 2019-12-01    392  \n",
      "...                  ...        ...    ...  \n",
      "99744055227        50-59 2019-12-01    943  \n",
      "99788780024        50-59 2019-12-01    513  \n",
      "99897294254        40-49 2019-12-01    904  \n",
      "99938763350        50-59 2019-12-01      1  \n",
      "99958693785        20-29 2019-12-01    642  \n",
      "\n",
      "[4853 rows x 8 columns] \n",
      "\n"
     ]
    }
   ],
   "source": [
    "df = pd.merge(df1, df2, on='pers_id', how='right')                                          # unimos los df con un 'right join' debido a que se nos pide: 'Teniendo en cuenta el periodo más reciente disponible'. Es decir, teniendo en cuenta el periodo.\n",
    "df = df.drop('empleo_sl', axis=1)                                                           # eliminamos la columna 'empleo_sl'\n",
    "df.rename(columns={'empleo_i': 'empleo'}, inplace=True)                                     # renombramos la columna 'empleo_i' a 'empleo'\n",
    "df.to_csv('./data/Tabla.csv')                                                               # exportamos el dataset en csv a /data\n",
    "print(df, '\\n')                                                                             # imprimimos el dataset"
   ]
  },
  {
   "cell_type": "markdown",
   "metadata": {},
   "source": [
    "### Creamos un 'dashboard' con pandas-profiling"
   ]
  },
  {
   "cell_type": "code",
   "execution_count": 15,
   "metadata": {},
   "outputs": [
    {
     "data": {
      "application/vnd.jupyter.widget-view+json": {
       "model_id": "15ffa8526efe4337ae2bedda5796d4d8",
       "version_major": 2,
       "version_minor": 0
      },
      "text/plain": [
       "Summarize dataset:   0%|          | 0/5 [00:00<?, ?it/s]"
      ]
     },
     "metadata": {},
     "output_type": "display_data"
    },
    {
     "data": {
      "application/vnd.jupyter.widget-view+json": {
       "model_id": "aeb5a21ad6f749679c3cebb3340143e0",
       "version_major": 2,
       "version_minor": 0
      },
      "text/plain": [
       "Generate report structure:   0%|          | 0/1 [00:00<?, ?it/s]"
      ]
     },
     "metadata": {},
     "output_type": "display_data"
    },
    {
     "data": {
      "application/vnd.jupyter.widget-view+json": {
       "model_id": "e2bcf98c672f4df58598f4eed1ba17e1",
       "version_major": 2,
       "version_minor": 0
      },
      "text/plain": [
       "Render HTML:   0%|          | 0/1 [00:00<?, ?it/s]"
      ]
     },
     "metadata": {},
     "output_type": "display_data"
    },
    {
     "data": {
      "application/vnd.jupyter.widget-view+json": {
       "model_id": "972fa86db1e9454ca60d18d6adad9b31",
       "version_major": 2,
       "version_minor": 0
      },
      "text/plain": [
       "Export report to file:   0%|          | 0/1 [00:00<?, ?it/s]"
      ]
     },
     "metadata": {},
     "output_type": "display_data"
    }
   ],
   "source": [
    "profile = ProfileReport(df)                                                                 # generamos un dashboard con pandas_profiling\n",
    "profile.to_file(\"./docs/conclusiones.html\")                                                 # exportamos el reporte en HTML"
   ]
  },
  {
   "cell_type": "markdown",
   "metadata": {},
   "source": [
    "### Crear la funcion solicitada"
   ]
  },
  {
   "cell_type": "code",
   "execution_count": 16,
   "metadata": {},
   "outputs": [],
   "source": [
    "def Calcular_Estadisticas(df, est, var1, var2):                                             # creamos la funcion que calculara los metodos estadisticos\n",
    "    \"\"\"\n",
    "    funcion capaz de calcular metodos estadisticos por columna y valores agrupados en un dataset.\n",
    "\n",
    "    Args:\n",
    "        df (DataFrame): DataFrame con los datos.\n",
    "        est (str): estadistico a calular ['mean', 'median', 'sum', 'std', 'var', 'count', 'sem', 'max', 'min'].\n",
    "        var1 (str): variable a la que se va a aplicar el estadistico.\n",
    "        var2 (str): variable con la cual se va a agrupar.\n",
    "        bins (int or list of int, optional): Parámetro para binning (por ejemplo, para agrupar edades por décadas).\n",
    "\n",
    "    Returns:\n",
    "        DataFrame: Resultados de las estadísticas calculadas.\n",
    "    \"\"\"\n",
    "    if est not in ['mean', 'median', 'sum', 'std', 'var', 'count', 'sem', 'max', 'min']:                                        # si el parametro 'est' no un estadistico correcto, retorna error\n",
    "        raise ValueError(\"Estadístico debe ser: 'mean', 'median', 'sum', 'std', 'var', 'count', 'sem', 'max' o 'min'\")\n",
    "\n",
    "    if (var1 and var2) not in ['sexo', 'edad', 'rango_etario', 'ingreso', 'situacion_lab', 'empleo', 'periodo', 'score']:                       # si las variables no son las del dataset, retorna error\n",
    "        raise ValueError(\"Las variables deben ser: 'sexo', 'edad', 'ingreso', 'situacion_lab', 'empleo', 'periodo' o 'score'\")\n",
    "\n",
    "    if var1 == var2:                                                                        # si las variables son iguales, retorna error\n",
    "        raise ValueError(\"Las variables no pueden ser iguales\")\n",
    "\n",
    "    if est == 'max':                                                                        # calculamos el maximo\n",
    "        grouped_data = df.groupby(var2)[var1].max().reset_index()\n",
    "    elif est == 'min':                                                                      # calculamos el minimo\n",
    "        grouped_data = df.groupby(var2)[var1].min().reset_index()\n",
    "    else:                                                                                   # calculamos el estadistico seleccionado\n",
    "        grouped_data = df.groupby(var2)[var1].agg([est]).reset_index()\n",
    "    \n",
    "    return grouped_data"
   ]
  },
  {
   "cell_type": "markdown",
   "metadata": {},
   "source": [
    "### Obtener resultados"
   ]
  },
  {
   "cell_type": "code",
   "execution_count": 17,
   "metadata": {},
   "outputs": [
    {
     "name": "stdout",
     "output_type": "stream",
     "text": [
      "score promedio según empleo:\n",
      "   empleo        mean\n",
      "0       0  566.711656\n",
      "1       1  696.622338 \n",
      "\n",
      "score medio según empleo:\n",
      "   empleo  median\n",
      "0       0   620.0\n",
      "1       1   745.0 \n",
      "\n",
      "ingreso maximo según sexo:\n",
      "  sexo     ingreso\n",
      "0    F  850432.250\n",
      "1    M  669146.625 \n",
      "\n",
      "ingreso promedio según sexo:\n",
      "  sexo          mean\n",
      "0    F  44848.931498\n",
      "1    M  55543.766640 \n",
      "\n",
      "score maximo según sexo:\n",
      "  sexo  score\n",
      "0    F    965\n",
      "1    M   1011 \n",
      "\n",
      "score promedio según sexo:\n",
      "  sexo        mean\n",
      "0    F  616.837757\n",
      "1    M  804.382667 \n",
      "\n",
      "edad promedio según sexo:\n",
      "  sexo       mean\n",
      "0    F  47.708619\n",
      "1    M  42.066667 \n",
      "\n",
      "score promedio según rango_etario:\n",
      "  rango_etario        mean\n",
      "0        10-19  839.000000\n",
      "1        20-29  787.588235\n",
      "2        30-39  782.147105\n",
      "3        40-49  627.281853\n",
      "4        50-59  655.634387\n",
      "5        60-69  748.825503 \n",
      "\n"
     ]
    }
   ],
   "source": [
    "result1 = Calcular_Estadisticas(df, 'mean', 'score', 'empleo')                              # calculamos el score promedio según empleo\n",
    "result2 = Calcular_Estadisticas(df, 'median', 'score', 'empleo')                            # calculamos el score medio según empleo\n",
    "result3 = Calcular_Estadisticas(df, 'max', 'ingreso', 'sexo')                               # calculamos el ingreso maximo según sexo\n",
    "result4 = Calcular_Estadisticas(df, 'mean', 'ingreso', 'sexo')                              # calculamos el ingreso promedio según sexo\n",
    "result5 = Calcular_Estadisticas(df, 'max', 'score', 'sexo')                                 # calculamos el score maximo según sexo\n",
    "result6 = Calcular_Estadisticas(df, 'mean', 'score', 'sexo')                                # calculamos el score promedio según sexo\n",
    "result7 = Calcular_Estadisticas(df, 'mean', 'edad', 'sexo')                                 # calculamos la edad promedio según sexo\n",
    "result8 = Calcular_Estadisticas(df, 'mean', 'score', 'rango_etario')                        # calculamos el score promedio según rango_etario\n",
    "\n",
    "print('score promedio según empleo:')\n",
    "print(result1, '\\n')                                                                        # imprimimos el score promedio según empleo\n",
    "print('score medio según empleo:')\n",
    "print(result2, '\\n')                                                                        # imprimimos el score medio según empleo\n",
    "print('ingreso maximo según sexo:')\n",
    "print(result3, '\\n')                                                                        # imprimimos el ingreso maximo según sexo\n",
    "print('ingreso promedio según sexo:')\n",
    "print(result4, '\\n')                                                                        # imprimimos el ingreso promedio según sexo\n",
    "print('score maximo según sexo:')\n",
    "print(result5, '\\n')                                                                        # imprimimos el score maximo según sexo\n",
    "print('score promedio según sexo:')\n",
    "print(result6, '\\n')                                                                        # imprimimos el score promedio según sexo\n",
    "print('edad promedio según sexo:')\n",
    "print(result7, '\\n')                                                                        # imprimimos la edad promedio según sexo\n",
    "print('score promedio según rango_etario:')\n",
    "print(result8, '\\n')                                                                        # imprimimos el score promedio según rango_etario"
   ]
  }
 ],
 "metadata": {
  "kernelspec": {
   "display_name": "Python 3",
   "language": "python",
   "name": "python3"
  },
  "language_info": {
   "codemirror_mode": {
    "name": "ipython",
    "version": 3
   },
   "file_extension": ".py",
   "mimetype": "text/x-python",
   "name": "python",
   "nbconvert_exporter": "python",
   "pygments_lexer": "ipython3",
   "version": "3.11.2"
  },
  "orig_nbformat": 4
 },
 "nbformat": 4,
 "nbformat_minor": 2
}
